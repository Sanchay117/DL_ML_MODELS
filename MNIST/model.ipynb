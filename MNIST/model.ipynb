{
 "cells": [
  {
   "cell_type": "markdown",
   "id": "6382f7fa-b2e9-4bc5-89ce-8e33896c1aef",
   "metadata": {},
   "source": [
    "## Neural Net For the MNIST Dataset"
   ]
  },
  {
   "cell_type": "code",
   "execution_count": 1,
   "id": "d5c20dc1-34e1-409f-aae7-efc309c87cc6",
   "metadata": {},
   "outputs": [],
   "source": [
    "%matplotlib inline\n",
    "\n",
    "import torch\n",
    "import torch.nn as nn\n",
    "\n",
    "import matplotlib\n",
    "import matplotlib.pyplot as plt\n",
    "from torch.utils.data import Dataset, DataLoader\n",
    "import pandas as pd"
   ]
  },
  {
   "cell_type": "markdown",
   "id": "636d754a-1f51-46f8-8234-91463d4e5bd4",
   "metadata": {},
   "source": [
    "### Loading the dataset"
   ]
  },
  {
   "cell_type": "code",
   "execution_count": 2,
   "id": "d5030ada-18a3-4c70-9d47-e1156af9e971",
   "metadata": {},
   "outputs": [],
   "source": [
    "class MNISTDataset(Dataset):\n",
    "    def __init__(self, csv_file):\n",
    "        self.data = pd.read_csv(csv_file)\n",
    "        self.X = self.data.iloc[:, 1:].values.astype('float32') / 255.0  # normalize\n",
    "        self.y = self.data.iloc[:, 0].values.astype('int64')\n",
    "\n",
    "    def __len__(self):\n",
    "        return len(self.y)\n",
    "\n",
    "    def __getitem__(self, idx):\n",
    "        image = torch.tensor(self.X[idx]).view(1, 28, 28)  # reshape to (1, 28, 28)\n",
    "        label = torch.tensor(self.y[idx])\n",
    "        return image, label\n",
    "\n",
    "# Usage\n",
    "train_file = \"./dataset/mnist_train.csv\"\n",
    "test_file = \"./dataset/mnist_test.csv\"\n",
    "train_dataset = MNISTDataset(train_file)\n",
    "test_dataset = MNISTDataset(test_file)\n",
    "train_dataloader = DataLoader(train_dataset, batch_size=64, shuffle=True)\n",
    "test_dataloader = DataLoader(test_dataset, batch_size=64, shuffle=True)"
   ]
  },
  {
   "cell_type": "markdown",
   "id": "65bc9f07-6198-45c3-ab23-5c06ae0f624f",
   "metadata": {},
   "source": [
    "### Displaying the Dataset"
   ]
  },
  {
   "cell_type": "code",
   "execution_count": 3,
   "id": "b40e57ac-4fab-4aea-830a-d05434104f44",
   "metadata": {},
   "outputs": [
    {
     "name": "stdout",
     "output_type": "stream",
     "text": [
      "Feature batch shape: torch.Size([64, 1, 28, 28])\n",
      "Labels batch shape: torch.Size([64])\n"
     ]
    },
    {
     "data": {
      "image/png": "[encoded data removed]",
      "text/plain": [
       "<Figure size 1500x500 with 16 Axes>"
      ]
     },
     "metadata": {},
     "output_type": "display_data"
    }
   ],
   "source": [
    "train_features, train_labels = next(iter(train_dataloader))\n",
    "\n",
    "fig, axes = plt.subplots(2, 8, figsize=(15, 5))  # 2 rows, 8 columns = 16 images\n",
    "axes = axes.flatten()  # flatten 2D axes array to 1D for easy indexing\n",
    "\n",
    "print(f\"Feature batch shape: {train_features.size()}\")\n",
    "print(f\"Labels batch shape: {train_labels.size()}\")\n",
    "\n",
    "for i in range(16):\n",
    "    img = train_features[i].squeeze()\n",
    "    label = train_labels[i].item()  # convert tensor to Python int\n",
    "    axes[i].imshow(img, cmap=\"gray\")\n",
    "    axes[i].set_title(f\"Label: {label}\")\n",
    "    axes[i].axis(\"off\")\n",
    "\n",
    "plt.tight_layout()\n",
    "plt.show()\n"
   ]
  },
  {
   "cell_type": "markdown",
   "id": "c2a1d883-74e1-45d6-bbb9-a632c90f96d0",
   "metadata": {},
   "source": [
    "### Hyperparameters"
   ]
  },
  {
   "cell_type": "code",
   "execution_count": 4,
   "id": "e3d49b19-574e-4959-9cac-b8289ec821a3",
   "metadata": {},
   "outputs": [],
   "source": [
    "# Hyper-parameters \n",
    "input_size = 784 # 28x28\n",
    "hidden_size = 512\n",
    "hidden_size_2 = 256\n",
    "num_classes = 10\n",
    "num_epochs = 20\n",
    "batch_size = 64\n",
    "learning_rate = 0.001"
   ]
  },
  {
   "cell_type": "markdown",
   "id": "23072b47-db0f-4f79-9fc6-86897aea91be",
   "metadata": {},
   "source": [
    "### The Model"
   ]
  },
  {
   "cell_type": "code",
   "execution_count": 5,
   "id": "5c371d7c-febe-40cf-802a-ba5081db296e",
   "metadata": {},
   "outputs": [],
   "source": [
    "# Device configuration\n",
    "device = torch.device('cuda' if torch.cuda.is_available() else 'cpu')\n",
    "\n",
    "class NeuralNet(nn.Module):\n",
    "    def __init__(self, input_size, hidden_size, hidden_size_2,num_classes):\n",
    "        super(NeuralNet, self).__init__()\n",
    "        self.l1 = nn.Linear(input_size, hidden_size) \n",
    "        self.relu = nn.ReLU()\n",
    "        self.l2 = nn.Linear(hidden_size, hidden_size_2)\n",
    "        self.l3 = nn.Linear(hidden_size_2,num_classes)\n",
    "    \n",
    "    def forward(self, x):\n",
    "        out = self.l1(x)\n",
    "        out = self.relu(out)\n",
    "        out = self.l2(out)\n",
    "        out = self.relu(out)\n",
    "        out = self.l3(out)\n",
    "        # no activation and no softmax at the end\n",
    "        return out\n",
    "\n",
    "model = NeuralNet(input_size, hidden_size, hidden_size_2 ,num_classes).to(device)"
   ]
  },
  {
   "cell_type": "markdown",
   "id": "93ba234a-45ad-48cd-821c-c1f7115e3356",
   "metadata": {},
   "source": [
    "### Loss"
   ]
  },
  {
   "cell_type": "code",
   "execution_count": 6,
   "id": "7dd32291-1664-4982-8afe-1525ca35ebeb",
   "metadata": {},
   "outputs": [],
   "source": [
    "criterion = torch.nn.CrossEntropyLoss()"
   ]
  },
  {
   "cell_type": "markdown",
   "id": "46f26d62-4678-4b55-81d9-3deea2ac4059",
   "metadata": {},
   "source": [
    "### Optimizer"
   ]
  },
  {
   "cell_type": "code",
   "execution_count": 7,
   "id": "1a5b39fd-c8da-4ded-9714-2160676c7178",
   "metadata": {},
   "outputs": [],
   "source": [
    "optimizer = torch.optim.Adam(model.parameters(), lr=learning_rate)"
   ]
  },
  {
   "cell_type": "markdown",
   "id": "818fb380-808b-46df-8b00-858457ef3d24",
   "metadata": {},
   "source": [
    "### Training"
   ]
  },
  {
   "cell_type": "code",
   "execution_count": 10,
   "id": "d628e1db-5893-4055-9f17-0983d9a8ad03",
   "metadata": {},
   "outputs": [
    {
     "name": "stdout",
     "output_type": "stream",
     "text": [
      "Epoch [1/20], Step [100/938], Loss: 0.3026\n",
      "Epoch [1/20], Step [200/938], Loss: 0.2053\n",
      "Epoch [1/20], Step [300/938], Loss: 0.1372\n",
      "Epoch [1/20], Step [400/938], Loss: 0.2158\n",
      "Epoch [1/20], Step [500/938], Loss: 0.1270\n",
      "Epoch [1/20], Step [600/938], Loss: 0.1131\n",
      "Epoch [1/20], Step [700/938], Loss: 0.1310\n",
      "Epoch [1/20], Step [800/938], Loss: 0.0924\n",
      "Epoch [1/20], Step [900/938], Loss: 0.0607\n",
      "Epoch [2/20], Step [100/938], Loss: 0.0517\n",
      "Epoch [2/20], Step [200/938], Loss: 0.0198\n",
      "Epoch [2/20], Step [300/938], Loss: 0.1350\n",
      "Epoch [2/20], Step [400/938], Loss: 0.0446\n",
      "Epoch [2/20], Step [500/938], Loss: 0.0514\n",
      "Epoch [2/20], Step [600/938], Loss: 0.0684\n",
      "Epoch [2/20], Step [700/938], Loss: 0.0282\n",
      "Epoch [2/20], Step [800/938], Loss: 0.0914\n",
      "Epoch [2/20], Step [900/938], Loss: 0.0728\n",
      "Epoch [3/20], Step [100/938], Loss: 0.0663\n",
      "Epoch [3/20], Step [200/938], Loss: 0.0187\n",
      "Epoch [3/20], Step [300/938], Loss: 0.0724\n",
      "Epoch [3/20], Step [400/938], Loss: 0.1182\n",
      "Epoch [3/20], Step [500/938], Loss: 0.0536\n",
      "Epoch [3/20], Step [600/938], Loss: 0.0281\n",
      "Epoch [3/20], Step [700/938], Loss: 0.0336\n",
      "Epoch [3/20], Step [800/938], Loss: 0.1505\n",
      "Epoch [3/20], Step [900/938], Loss: 0.0256\n",
      "Epoch [4/20], Step [100/938], Loss: 0.0221\n",
      "Epoch [4/20], Step [200/938], Loss: 0.0136\n",
      "Epoch [4/20], Step [300/938], Loss: 0.1245\n",
      "Epoch [4/20], Step [400/938], Loss: 0.0435\n",
      "Epoch [4/20], Step [500/938], Loss: 0.0773\n",
      "Epoch [4/20], Step [600/938], Loss: 0.0047\n",
      "Epoch [4/20], Step [700/938], Loss: 0.0829\n",
      "Epoch [4/20], Step [800/938], Loss: 0.0423\n",
      "Epoch [4/20], Step [900/938], Loss: 0.0040\n",
      "Epoch [5/20], Step [100/938], Loss: 0.0942\n",
      "Epoch [5/20], Step [200/938], Loss: 0.0298\n",
      "Epoch [5/20], Step [300/938], Loss: 0.0253\n",
      "Epoch [5/20], Step [400/938], Loss: 0.1636\n",
      "Epoch [5/20], Step [500/938], Loss: 0.0108\n",
      "Epoch [5/20], Step [600/938], Loss: 0.0253\n",
      "Epoch [5/20], Step [700/938], Loss: 0.0966\n",
      "Epoch [5/20], Step [800/938], Loss: 0.0407\n",
      "Epoch [5/20], Step [900/938], Loss: 0.0463\n",
      "Epoch [6/20], Step [100/938], Loss: 0.0077\n",
      "Epoch [6/20], Step [200/938], Loss: 0.0973\n",
      "Epoch [6/20], Step [300/938], Loss: 0.0079\n",
      "Epoch [6/20], Step [400/938], Loss: 0.0023\n",
      "Epoch [6/20], Step [500/938], Loss: 0.0050\n",
      "Epoch [6/20], Step [600/938], Loss: 0.0597\n",
      "Epoch [6/20], Step [700/938], Loss: 0.0110\n",
      "Epoch [6/20], Step [800/938], Loss: 0.0036\n",
      "Epoch [6/20], Step [900/938], Loss: 0.1104\n",
      "Epoch [7/20], Step [100/938], Loss: 0.0065\n",
      "Epoch [7/20], Step [200/938], Loss: 0.0099\n",
      "Epoch [7/20], Step [300/938], Loss: 0.0045\n",
      "Epoch [7/20], Step [400/938], Loss: 0.0176\n",
      "Epoch [7/20], Step [500/938], Loss: 0.0020\n",
      "Epoch [7/20], Step [600/938], Loss: 0.0017\n",
      "Epoch [7/20], Step [700/938], Loss: 0.0036\n",
      "Epoch [7/20], Step [800/938], Loss: 0.0012\n",
      "Epoch [7/20], Step [900/938], Loss: 0.0342\n",
      "Epoch [8/20], Step [100/938], Loss: 0.0027\n",
      "Epoch [8/20], Step [200/938], Loss: 0.0140\n",
      "Epoch [8/20], Step [300/938], Loss: 0.0069\n",
      "Epoch [8/20], Step [400/938], Loss: 0.0179\n",
      "Epoch [8/20], Step [500/938], Loss: 0.0661\n",
      "Epoch [8/20], Step [600/938], Loss: 0.0074\n",
      "Epoch [8/20], Step [700/938], Loss: 0.0001\n",
      "Epoch [8/20], Step [800/938], Loss: 0.0005\n",
      "Epoch [8/20], Step [900/938], Loss: 0.0117\n",
      "Epoch [9/20], Step [100/938], Loss: 0.0143\n",
      "Epoch [9/20], Step [200/938], Loss: 0.0051\n",
      "Epoch [9/20], Step [300/938], Loss: 0.0001\n",
      "Epoch [9/20], Step [400/938], Loss: 0.0034\n",
      "Epoch [9/20], Step [500/938], Loss: 0.0005\n",
      "Epoch [9/20], Step [600/938], Loss: 0.0562\n",
      "Epoch [9/20], Step [700/938], Loss: 0.0066\n",
      "Epoch [9/20], Step [800/938], Loss: 0.0020\n",
      "Epoch [9/20], Step [900/938], Loss: 0.0011\n",
      "Epoch [10/20], Step [100/938], Loss: 0.0003\n",
      "Epoch [10/20], Step [200/938], Loss: 0.0031\n",
      "Epoch [10/20], Step [300/938], Loss: 0.0001\n",
      "Epoch [10/20], Step [400/938], Loss: 0.0008\n",
      "Epoch [10/20], Step [500/938], Loss: 0.0041\n",
      "Epoch [10/20], Step [600/938], Loss: 0.0104\n",
      "Epoch [10/20], Step [700/938], Loss: 0.0195\n",
      "Epoch [10/20], Step [800/938], Loss: 0.0079\n",
      "Epoch [10/20], Step [900/938], Loss: 0.0065\n",
      "Epoch [11/20], Step [100/938], Loss: 0.0022\n",
      "Epoch [11/20], Step [200/938], Loss: 0.0010\n",
      "Epoch [11/20], Step [300/938], Loss: 0.0033\n",
      "Epoch [11/20], Step [400/938], Loss: 0.0133\n",
      "Epoch [11/20], Step [500/938], Loss: 0.2015\n",
      "Epoch [11/20], Step [600/938], Loss: 0.0114\n",
      "Epoch [11/20], Step [700/938], Loss: 0.0004\n",
      "Epoch [11/20], Step [800/938], Loss: 0.0124\n",
      "Epoch [11/20], Step [900/938], Loss: 0.0072\n",
      "Epoch [12/20], Step [100/938], Loss: 0.0014\n",
      "Epoch [12/20], Step [200/938], Loss: 0.0350\n",
      "Epoch [12/20], Step [300/938], Loss: 0.0006\n",
      "Epoch [12/20], Step [400/938], Loss: 0.0001\n",
      "Epoch [12/20], Step [500/938], Loss: 0.0011\n",
      "Epoch [12/20], Step [600/938], Loss: 0.0735\n",
      "Epoch [12/20], Step [700/938], Loss: 0.0162\n",
      "Epoch [12/20], Step [800/938], Loss: 0.0594\n",
      "Epoch [12/20], Step [900/938], Loss: 0.0062\n",
      "Epoch [13/20], Step [100/938], Loss: 0.0095\n",
      "Epoch [13/20], Step [200/938], Loss: 0.0002\n",
      "Epoch [13/20], Step [300/938], Loss: 0.0003\n",
      "Epoch [13/20], Step [400/938], Loss: 0.0276\n",
      "Epoch [13/20], Step [500/938], Loss: 0.0308\n",
      "Epoch [13/20], Step [600/938], Loss: 0.0112\n",
      "Epoch [13/20], Step [700/938], Loss: 0.0332\n",
      "Epoch [13/20], Step [800/938], Loss: 0.0017\n",
      "Epoch [13/20], Step [900/938], Loss: 0.0024\n",
      "Epoch [14/20], Step [100/938], Loss: 0.0003\n",
      "Epoch [14/20], Step [200/938], Loss: 0.0012\n",
      "Epoch [14/20], Step [300/938], Loss: 0.0010\n",
      "Epoch [14/20], Step [400/938], Loss: 0.0001\n",
      "Epoch [14/20], Step [500/938], Loss: 0.0004\n",
      "Epoch [14/20], Step [600/938], Loss: 0.0000\n",
      "Epoch [14/20], Step [700/938], Loss: 0.0013\n",
      "Epoch [14/20], Step [800/938], Loss: 0.0002\n",
      "Epoch [14/20], Step [900/938], Loss: 0.0075\n",
      "Epoch [15/20], Step [100/938], Loss: 0.0015\n",
      "Epoch [15/20], Step [200/938], Loss: 0.0001\n",
      "Epoch [15/20], Step [300/938], Loss: 0.0298\n",
      "Epoch [15/20], Step [400/938], Loss: 0.0266\n",
      "Epoch [15/20], Step [500/938], Loss: 0.0032\n",
      "Epoch [15/20], Step [600/938], Loss: 0.0001\n",
      "Epoch [15/20], Step [700/938], Loss: 0.0033\n",
      "Epoch [15/20], Step [800/938], Loss: 0.0003\n",
      "Epoch [15/20], Step [900/938], Loss: 0.0001\n",
      "Epoch [16/20], Step [100/938], Loss: 0.0009\n",
      "Epoch [16/20], Step [200/938], Loss: 0.0647\n",
      "Epoch [16/20], Step [300/938], Loss: 0.0001\n",
      "Epoch [16/20], Step [400/938], Loss: 0.0019\n",
      "Epoch [16/20], Step [500/938], Loss: 0.0009\n",
      "Epoch [16/20], Step [600/938], Loss: 0.0001\n",
      "Epoch [16/20], Step [700/938], Loss: 0.0025\n",
      "Epoch [16/20], Step [800/938], Loss: 0.0002\n",
      "Epoch [16/20], Step [900/938], Loss: 0.0001\n",
      "Epoch [17/20], Step [100/938], Loss: 0.0798\n",
      "Epoch [17/20], Step [200/938], Loss: 0.0552\n",
      "Epoch [17/20], Step [300/938], Loss: 0.0074\n",
      "Epoch [17/20], Step [400/938], Loss: 0.0237\n",
      "Epoch [17/20], Step [500/938], Loss: 0.0005\n",
      "Epoch [17/20], Step [600/938], Loss: 0.0002\n",
      "Epoch [17/20], Step [700/938], Loss: 0.0041\n",
      "Epoch [17/20], Step [800/938], Loss: 0.0079\n",
      "Epoch [17/20], Step [900/938], Loss: 0.0001\n",
      "Epoch [18/20], Step [100/938], Loss: 0.0003\n",
      "Epoch [18/20], Step [200/938], Loss: 0.0007\n",
      "Epoch [18/20], Step [300/938], Loss: 0.0070\n",
      "Epoch [18/20], Step [400/938], Loss: 0.0001\n",
      "Epoch [18/20], Step [500/938], Loss: 0.0163\n",
      "Epoch [18/20], Step [600/938], Loss: 0.0000\n",
      "Epoch [18/20], Step [700/938], Loss: 0.0002\n",
      "Epoch [18/20], Step [800/938], Loss: 0.0001\n",
      "Epoch [18/20], Step [900/938], Loss: 0.0034\n",
      "Epoch [19/20], Step [100/938], Loss: 0.0002\n",
      "Epoch [19/20], Step [200/938], Loss: 0.0002\n",
      "Epoch [19/20], Step [300/938], Loss: 0.0053\n",
      "Epoch [19/20], Step [400/938], Loss: 0.0005\n",
      "Epoch [19/20], Step [500/938], Loss: 0.0000\n",
      "Epoch [19/20], Step [600/938], Loss: 0.0014\n",
      "Epoch [19/20], Step [700/938], Loss: 0.0027\n",
      "Epoch [19/20], Step [800/938], Loss: 0.0021\n",
      "Epoch [19/20], Step [900/938], Loss: 0.0004\n",
      "Epoch [20/20], Step [100/938], Loss: 0.0001\n",
      "Epoch [20/20], Step [200/938], Loss: 0.0000\n",
      "Epoch [20/20], Step [300/938], Loss: 0.1025\n",
      "Epoch [20/20], Step [400/938], Loss: 0.0178\n",
      "Epoch [20/20], Step [500/938], Loss: 0.0014\n",
      "Epoch [20/20], Step [600/938], Loss: 0.0001\n",
      "Epoch [20/20], Step [700/938], Loss: 0.0000\n",
      "Epoch [20/20], Step [800/938], Loss: 0.0083\n",
      "Epoch [20/20], Step [900/938], Loss: 0.0233\n"
     ]
    }
   ],
   "source": [
    "n_total_steps = len(train_dataloader)\n",
    "for epoch in range(num_epochs):\n",
    "    for i, (images, labels) in enumerate(train_dataloader):  \n",
    "        # origin shape: [100, 1, 28, 28]\n",
    "        # resized: [100, 784]\n",
    "        images = images.reshape(-1, 28*28).to(device)\n",
    "        labels = labels.to(device)\n",
    "        \n",
    "        # Forward pass and loss calculation\n",
    "        outputs = model(images)\n",
    "        loss = criterion(outputs, labels)\n",
    "        \n",
    "        # Backward and optimize\n",
    "        loss.backward()\n",
    "        optimizer.step()\n",
    "        optimizer.zero_grad()\n",
    "        \n",
    "        if (i+1) % 100 == 0:\n",
    "            print (f'Epoch [{epoch+1}/{num_epochs}], Step [{i+1}/{n_total_steps}], Loss: {loss.item():.4f}')"
   ]
  },
  {
   "cell_type": "markdown",
   "id": "f9a8f9c1-9cd6-451d-a814-a300e75cefc3",
   "metadata": {},
   "source": [
    "### Testing On Training Set"
   ]
  },
  {
   "cell_type": "code",
   "execution_count": 11,
   "id": "fd2055d7-214a-4e36-93db-0673839db158",
   "metadata": {},
   "outputs": [
    {
     "name": "stdout",
     "output_type": "stream",
     "text": [
      "Accuracy of the network on the 60000 train images: 99.81333333333333 %\n"
     ]
    }
   ],
   "source": [
    "# Test the model: we don't need to compute gradients\n",
    "with torch.no_grad():\n",
    "    n_correct = 0\n",
    "    n_samples = len(train_dataloader.dataset)\n",
    "\n",
    "    for images, labels in train_dataloader:\n",
    "        images = images.reshape(-1, 28*28).to(device)\n",
    "        labels = labels.to(device)\n",
    "\n",
    "        outputs = model(images)\n",
    "\n",
    "        # max returns (output_value ,index)\n",
    "        _, predicted = torch.max(outputs, 1)\n",
    "        n_correct += (predicted == labels).sum().item()\n",
    "\n",
    "    acc = n_correct / n_samples\n",
    "    print(f'Accuracy of the network on the {n_samples} train images: {100*acc} %')"
   ]
  },
  {
   "cell_type": "markdown",
   "id": "579af028-7622-491d-b948-047e723e4baf",
   "metadata": {},
   "source": [
    "### Testing On Test Set"
   ]
  },
  {
   "cell_type": "code",
   "execution_count": 16,
   "id": "16166042-4d9b-4ddf-b42c-4b3bb9e1c488",
   "metadata": {},
   "outputs": [
    {
     "name": "stdout",
     "output_type": "stream",
     "text": [
      "Accuracy of the network on the 10000 test images: 98.15 %\n"
     ]
    }
   ],
   "source": [
    "import matplotlib.pyplot as plt\n",
    "\n",
    "misclassified_images = []\n",
    "misclassified_preds = []\n",
    "misclassified_labels = []\n",
    "\n",
    "with torch.no_grad():\n",
    "    n_correct = 0\n",
    "    n_samples = len(test_dataloader.dataset)\n",
    "\n",
    "    for images, labels in test_dataloader:\n",
    "        images_flat = images.reshape(-1, 28*28).to(device)\n",
    "        labels = labels.to(device)\n",
    "\n",
    "        outputs = model(images_flat)\n",
    "        _, predicted = torch.max(outputs, 1)\n",
    "\n",
    "        n_correct += (predicted == labels).sum().item()\n",
    "\n",
    "        # Save misclassified\n",
    "        for i in range(len(labels)):\n",
    "            if predicted[i] != labels[i]:\n",
    "                misclassified_images.append(images[i].squeeze().cpu())\n",
    "                misclassified_preds.append(predicted[i].item())\n",
    "                misclassified_labels.append(labels[i].item())\n",
    "\n",
    "    acc = n_correct / n_samples\n",
    "    print(f'Accuracy of the network on the {n_samples} test images: {100*acc:.2f} %')"
   ]
  },
  {
   "cell_type": "markdown",
   "id": "87c6adf4-9f0a-4263-8233-7cd2e3141a0a",
   "metadata": {},
   "source": [
    "### Misclassified Examples from the Test Set"
   ]
  },
  {
   "cell_type": "code",
   "execution_count": 17,
   "id": "602641fe-572b-4602-a1ce-dddb1bcebbf0",
   "metadata": {},
   "outputs": [
    {
     "data": {
      "image/png": "[encoded data removed]",
      "text/plain": [
       "<Figure size 1500x500 with 8 Axes>"
      ]
     },
     "metadata": {},
     "output_type": "display_data"
    }
   ],
   "source": [
    "# Plot a few misclassified examples\n",
    "num_to_show = 8\n",
    "plt.figure(figsize=(15, 5))\n",
    "for idx in range(num_to_show):\n",
    "    plt.subplot(2, 4, idx+1)\n",
    "    plt.imshow(misclassified_images[idx], cmap='gray')\n",
    "    plt.title(f\"Pred: {misclassified_preds[idx]}\\nTrue: {misclassified_labels[idx]}\")\n",
    "    plt.axis('off')\n",
    "\n",
    "plt.tight_layout()\n",
    "plt.show()"
   ]
  },
  {
   "cell_type": "markdown",
   "id": "a7369662-158e-4558-a0f3-5b79956b9898",
   "metadata": {},
   "source": [
    "### Finally saving the model weights"
   ]
  },
  {
   "cell_type": "code",
   "execution_count": 18,
   "id": "a2270df9-3337-44d1-9169-9065b168b158",
   "metadata": {},
   "outputs": [],
   "source": [
    "torch.save(model.state_dict(), \"model_weights.pth\")"
   ]
  },
  {
   "cell_type": "code",
   "execution_count": null,
   "id": "8eeefcaa-4651-4359-83cd-3cb93770e738",
   "metadata": {},
   "outputs": [],
   "source": []
  }
 ],
 "metadata": {
  "kernelspec": {
   "display_name": "Python 3 (ipykernel)",
   "language": "python",
   "name": "python3"
  },
  "language_info": {
   "codemirror_mode": {
    "name": "ipython",
    "version": 3
   },
   "file_extension": ".py",
   "mimetype": "text/x-python",
   "name": "python",
   "nbconvert_exporter": "python",
   "pygments_lexer": "ipython3",
   "version": "3.9.6"
  }
 },
 "nbformat": 4,
 "nbformat_minor": 5
}
