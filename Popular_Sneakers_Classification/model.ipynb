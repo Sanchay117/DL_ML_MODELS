{
 "cells": [
  {
   "cell_type": "markdown",
   "id": "fc4771b3-4694-4c31-bc3d-d001b7a1baa4",
   "metadata": {},
   "source": [
    "# 🏷️ Sneakers Classification using Neural Networks\n",
    "\n",
    "Welcome!  \n",
    "In this notebook, we explore the task of classifying sneakers based on images using deep learning. Our dataset is sourced from [this Kaggle dataset](https://www.kaggle.com/datasets/nikolasgegenava/sneakers-classification), which contains labeled images of different sneaker types.\n",
    "\n",
    "The goal of this project is to build a convolutional neural network (CNN) that can accurately predict the class of a sneaker from an image. This type of model has practical applications in fashion recommendation systems, e-commerce, and inventory management.\n",
    "\n",
    "---\n",
    "\n",
    "## 📦 Dataset Overview\n",
    "\n",
    "The dataset includes:\n",
    "\n",
    "- High-quality images of sneakers across multiple classes.\n",
    "- Labels corresponding to sneaker categories (e.g., running shoes, basketball shoes, etc.).\n",
    "\n",
    "We will go through the following steps:\n",
    "\n",
    "1. **Data Loading & Visualization**  \n",
    "   Understand the structure and distribution of the data.\n",
    "\n",
    "2. **Data Preprocessing**  \n",
    "   Resize, normalize, and augment images for training.\n",
    "\n",
    "3. **Model Building**  \n",
    "   Define a convolutional neural network (CNN) using PyTorch/TensorFlow.\n",
    "\n",
    "4. **Training & Evaluation**  \n",
    "   Train the model, track metrics, and evaluate performance on test data.\n",
    "\n",
    "5. **Results & Discussion**  \n",
    "   Analyze the model's accuracy, strengths, and areas for improvement.\n",
    "\n",
    "---\n",
    "\n",
    "Let’s get started! 🔍\n"
   ]
  },
  {
   "cell_type": "code",
   "execution_count": 1,
   "id": "079dff0d-0929-4e8c-a205-39b65285db92",
   "metadata": {},
   "outputs": [],
   "source": [
    "%matplotlib inline\n",
    "\n",
    "import torch\n",
    "import torch.nn as nn\n",
    "from torch.utils.data import Dataset, DataLoader , random_split\n",
    "from torchvision import datasets, transforms\n",
    "\n",
    "import matplotlib\n",
    "import matplotlib.pyplot as plt\n",
    "\n",
    "import pandas as pd\n",
    "import numpy as np"
   ]
  },
  {
   "cell_type": "markdown",
   "id": "ff68d5cf-2351-42d2-8f5a-f742e6a4e0a7",
   "metadata": {},
   "source": [
    "### Loading And Processing Dataset"
   ]
  },
  {
   "cell_type": "code",
   "execution_count": 2,
   "id": "caf158de-0624-42d7-ad87-469eaa9cced0",
   "metadata": {},
   "outputs": [
    {
     "data": {
      "text/html": [
       "<div>\n",
       "<style scoped>\n",
       "    .dataframe tbody tr th:only-of-type {\n",
       "        vertical-align: middle;\n",
       "    }\n",
       "\n",
       "    .dataframe tbody tr th {\n",
       "        vertical-align: top;\n",
       "    }\n",
       "\n",
       "    .dataframe thead th {\n",
       "        text-align: right;\n",
       "    }\n",
       "</style>\n",
       "<table border=\"1\" class=\"dataframe\">\n",
       "  <thead>\n",
       "    <tr style=\"text-align: right;\">\n",
       "      <th></th>\n",
       "      <th>class</th>\n",
       "      <th>image_count</th>\n",
       "      <th>avg_width</th>\n",
       "      <th>avg_height</th>\n",
       "      <th>min_width</th>\n",
       "      <th>min_height</th>\n",
       "      <th>max_width</th>\n",
       "      <th>max_height</th>\n",
       "      <th>formats</th>\n",
       "      <th>corrupt_files</th>\n",
       "    </tr>\n",
       "  </thead>\n",
       "  <tbody>\n",
       "    <tr>\n",
       "      <th>0</th>\n",
       "      <td>adidas_forum_high</td>\n",
       "      <td>150</td>\n",
       "      <td>143</td>\n",
       "      <td>124</td>\n",
       "      <td>78</td>\n",
       "      <td>81</td>\n",
       "      <td>162</td>\n",
       "      <td>140</td>\n",
       "      <td>jpeg</td>\n",
       "      <td>0</td>\n",
       "    </tr>\n",
       "    <tr>\n",
       "      <th>1</th>\n",
       "      <td>adidas_ultraboost</td>\n",
       "      <td>150</td>\n",
       "      <td>142</td>\n",
       "      <td>128</td>\n",
       "      <td>93</td>\n",
       "      <td>49</td>\n",
       "      <td>162</td>\n",
       "      <td>140</td>\n",
       "      <td>jpeg</td>\n",
       "      <td>0</td>\n",
       "    </tr>\n",
       "    <tr>\n",
       "      <th>2</th>\n",
       "      <td>new_balance_550</td>\n",
       "      <td>150</td>\n",
       "      <td>134</td>\n",
       "      <td>129</td>\n",
       "      <td>79</td>\n",
       "      <td>40</td>\n",
       "      <td>162</td>\n",
       "      <td>140</td>\n",
       "      <td>jpeg</td>\n",
       "      <td>0</td>\n",
       "    </tr>\n",
       "    <tr>\n",
       "      <th>3</th>\n",
       "      <td>new_balance_574</td>\n",
       "      <td>150</td>\n",
       "      <td>131</td>\n",
       "      <td>133</td>\n",
       "      <td>78</td>\n",
       "      <td>68</td>\n",
       "      <td>162</td>\n",
       "      <td>140</td>\n",
       "      <td>jpeg</td>\n",
       "      <td>0</td>\n",
       "    </tr>\n",
       "    <tr>\n",
       "      <th>4</th>\n",
       "      <td>converse_one_star</td>\n",
       "      <td>150</td>\n",
       "      <td>138</td>\n",
       "      <td>130</td>\n",
       "      <td>82</td>\n",
       "      <td>67</td>\n",
       "      <td>162</td>\n",
       "      <td>140</td>\n",
       "      <td>jpeg</td>\n",
       "      <td>0</td>\n",
       "    </tr>\n",
       "  </tbody>\n",
       "</table>\n",
       "</div>"
      ],
      "text/plain": [
       "               class  image_count  avg_width  avg_height  min_width  \\\n",
       "0  adidas_forum_high          150        143         124         78   \n",
       "1  adidas_ultraboost          150        142         128         93   \n",
       "2    new_balance_550          150        134         129         79   \n",
       "3    new_balance_574          150        131         133         78   \n",
       "4  converse_one_star          150        138         130         82   \n",
       "\n",
       "   min_height  max_width  max_height formats  corrupt_files  \n",
       "0          81        162         140    jpeg              0  \n",
       "1          49        162         140    jpeg              0  \n",
       "2          40        162         140    jpeg              0  \n",
       "3          68        162         140    jpeg              0  \n",
       "4          67        162         140    jpeg              0  "
      ]
     },
     "execution_count": 2,
     "metadata": {},
     "output_type": "execute_result"
    }
   ],
   "source": [
    "data_info = pd.read_csv(\"./dataset/dataset_stats.csv\")\n",
    "data_info.head()"
   ]
  },
  {
   "cell_type": "code",
   "execution_count": 3,
   "id": "cf05f3ee-b558-4f3b-94e7-2aada88e21f8",
   "metadata": {},
   "outputs": [
    {
     "name": "stdout",
     "output_type": "stream",
     "text": [
      "Max width of any image: 300\n",
      "Max Height Of Any Image: 140\n",
      "Total Number Of Images: 5953\n"
     ]
    }
   ],
   "source": [
    "# finding maximum size of an image\n",
    "max_width = 0\n",
    "max_height = 0\n",
    "total_images = 0\n",
    "\n",
    "for ind,row in data_info.iterrows():\n",
    "    max_width = max(max_width,row[\"max_width\"])\n",
    "    max_height = max(max_height,row[\"max_height\"])\n",
    "    total_images += row[\"image_count\"]\n",
    "\n",
    "print(f\"Max width of any image: {max_width}\\nMax Height Of Any Image: {max_height}\")\n",
    "print(\"Total Number Of Images:\",total_images)"
   ]
  },
  {
   "cell_type": "code",
   "execution_count": 4,
   "id": "aecdfe01-5767-4c82-a485-4d5071f0496b",
   "metadata": {},
   "outputs": [],
   "source": [
    "#Transforming each image\n",
    "transform = transforms.Compose([\n",
    "    transforms.Resize((300, 140)),\n",
    "    transforms.RandomHorizontalFlip(),        # basic augmentation\n",
    "    transforms.ToTensor(),\n",
    "    transforms.Normalize(mean=[0.5]*3, std=[0.5]*3)\n",
    "])\n",
    "\n",
    "#loading the images into dataset\n",
    "dataset = datasets.ImageFolder(root='./dataset/sneakers-dataset/sneakers-dataset', transform=transform)\n",
    "\n",
    "label_map = {}\n",
    "label = 0\n",
    "for _,row in data_info.iterrows():\n",
    "    label_map[label] = row[\"class\"]\n",
    "    label+=1"
   ]
  },
  {
   "cell_type": "code",
   "execution_count": 5,
   "id": "d6e89175-c055-4f7f-96bb-28a22ecbacb8",
   "metadata": {},
   "outputs": [
    {
     "name": "stdout",
     "output_type": "stream",
     "text": [
      "Train size: 5364\n",
      "Test size: 596\n"
     ]
    }
   ],
   "source": [
    "# splitting dataset\n",
    "\n",
    "# Calculate sizes\n",
    "total_size = len(dataset)\n",
    "test_size = int(0.1 * total_size)  # 10%\n",
    "train_size = total_size - test_size\n",
    "\n",
    "# Split the dataset\n",
    "train_dataset, test_dataset = random_split(dataset, [train_size, test_size])\n",
    "train_loader = DataLoader(train_dataset, batch_size=32, shuffle=True)\n",
    "test_loader = DataLoader(test_dataset,batch_size=2,shuffle=True)\n",
    "\n",
    "print(f\"Train size: {len(train_dataset)}\")\n",
    "print(f\"Test size: {len(test_dataset)}\")"
   ]
  },
  {
   "cell_type": "code",
   "execution_count": 6,
   "id": "c291a26a-f88c-4f1f-8459-1e2902ab2101",
   "metadata": {},
   "outputs": [
    {
     "data": {
      "image/png": "[encoded data removed]",
      "text/plain": [
       "<Figure size 640x480 with 1 Axes>"
      ]
     },
     "metadata": {},
     "output_type": "display_data"
    },
    {
     "name": "stdout",
     "output_type": "stream",
     "text": [
      "Label: converse_chuck_taylor_all-star_high\n",
      "torch.Size([32, 3, 300, 140]) tensor(11)\n"
     ]
    }
   ],
   "source": [
    "# Displaying an image\n",
    "\n",
    "# Function to unnormalize and convert tensor to numpy image for display\n",
    "def imshow(img_tensor):\n",
    "    img = img_tensor.numpy().transpose((1, 2, 0))  # C,H,W -> H,W,C\n",
    "    img = img * 0.5 + 0.5  # Undo normalization (assuming mean=0.5, std=0.5)\n",
    "    img = np.clip(img, 0, 1)\n",
    "    plt.imshow(img)\n",
    "    plt.axis('off')\n",
    "    plt.show()\n",
    "\n",
    "# Get one batch of images and labels\n",
    "images, labels = next(iter(train_loader))\n",
    "\n",
    "# Show first image in the batch\n",
    "imshow(images[0])\n",
    "print(f\"Label: {train_dataset.dataset.classes[labels[0]]}\")\n",
    "\n",
    "# tensor size and label\n",
    "print(images.shape,labels[0])"
   ]
  },
  {
   "cell_type": "markdown",
   "id": "b3c36369-c1fa-4fcf-a3e9-4e940518cb89",
   "metadata": {},
   "source": [
    "### Neural Net"
   ]
  },
  {
   "cell_type": "code",
   "execution_count": 9,
   "id": "338cb602-93d3-4b54-bb1c-6a71c10692b5",
   "metadata": {},
   "outputs": [],
   "source": [
    "import torch.nn.functional as F\n",
    "\n",
    "device = torch.device('cuda' if torch.cuda.is_available() else 'cpu')\n",
    "\n",
    "class SneakerCNN(nn.Module):\n",
    "    def __init__(self, num_classes=50):\n",
    "        super(SneakerCNN, self).__init__()\n",
    "        self.conv_layers = nn.Sequential(\n",
    "            nn.Conv2d(3, 32, kernel_size=3, padding=1),  # (3, 300, 140) → (32, 300, 140)\n",
    "            nn.ReLU(),\n",
    "            nn.MaxPool2d(2),                             # → (32, 150, 70)\n",
    "\n",
    "            nn.Conv2d(32, 64, kernel_size=3, padding=1), # → (64, 150, 70)\n",
    "            nn.ReLU(),\n",
    "            nn.MaxPool2d(2),                             # → (64, 75, 35)\n",
    "\n",
    "            nn.Conv2d(64, 128, kernel_size=3, padding=1),# → (128, 75, 35)\n",
    "            nn.ReLU(),\n",
    "            nn.MaxPool2d(2),                             # → (128, 37, 17)\n",
    "        )\n",
    "\n",
    "        self.fc_layers = nn.Sequential(\n",
    "            nn.Flatten(),\n",
    "            nn.Linear(128 * 37 * 17, 256),\n",
    "            nn.ReLU(),\n",
    "            nn.Dropout(0.4),\n",
    "            nn.Linear(256, num_classes)\n",
    "        )\n",
    "\n",
    "    def forward(self, x):\n",
    "        x = self.conv_layers(x)\n",
    "        x = self.fc_layers(x)\n",
    "        return x"
   ]
  },
  {
   "cell_type": "markdown",
   "id": "d6e84392-88d5-47ec-893b-26364f067bf1",
   "metadata": {},
   "source": [
    "### Hyperparameters"
   ]
  },
  {
   "cell_type": "code",
   "execution_count": 10,
   "id": "2767488d-3dd4-4f03-a788-8fb9f45fd921",
   "metadata": {},
   "outputs": [],
   "source": [
    "# Model\n",
    "model = SneakerCNN(num_classes=50).to(device)\n",
    "\n",
    "# Loss\n",
    "criterion = nn.CrossEntropyLoss()\n",
    "\n",
    "# Optimizer\n",
    "optimizer = torch.optim.Adam(model.parameters(), lr=0.001, weight_decay=1e-4)\n",
    "\n",
    "# Scheduler (optional)\n",
    "scheduler = torch.optim.lr_scheduler.StepLR(optimizer, step_size=10, gamma=0.5)\n",
    "\n",
    "# Epochs & Batch Size\n",
    "num_epochs = 30\n",
    "batch_size = 32"
   ]
  },
  {
   "cell_type": "markdown",
   "id": "8a79f849-9be8-4c17-834c-ce2622aa2daa",
   "metadata": {},
   "source": [
    "### Training"
   ]
  },
  {
   "cell_type": "code",
   "execution_count": 12,
   "id": "32cb68a9-7c79-41ff-b745-1009b9f753be",
   "metadata": {},
   "outputs": [
    {
     "name": "stderr",
     "output_type": "stream",
     "text": [
      "/Users/sanchaysingh/Library/Python/3.9/lib/python/site-packages/PIL/Image.py:1043: UserWarning: Palette images with Transparency expressed in bytes should be converted to RGBA images\n",
      "  warnings.warn(\n"
     ]
    },
    {
     "name": "stdout",
     "output_type": "stream",
     "text": [
      "Epoch [1/30], Step [100/168], Loss: 3.8008\n",
      "Epoch [2/30], Step [100/168], Loss: 3.6955\n",
      "Epoch [3/30], Step [100/168], Loss: 3.7681\n",
      "Epoch [4/30], Step [100/168], Loss: 3.6574\n",
      "Epoch [5/30], Step [100/168], Loss: 3.4082\n",
      "Epoch [6/30], Step [100/168], Loss: 3.3347\n",
      "Epoch [7/30], Step [100/168], Loss: 3.2054\n",
      "Epoch [8/30], Step [100/168], Loss: 2.8029\n",
      "Epoch [9/30], Step [100/168], Loss: 2.8121\n",
      "Epoch [10/30], Step [100/168], Loss: 2.8357\n",
      "Epoch [11/30], Step [100/168], Loss: 1.8970\n",
      "Epoch [12/30], Step [100/168], Loss: 1.3838\n",
      "Epoch [13/30], Step [100/168], Loss: 1.5293\n",
      "Epoch [14/30], Step [100/168], Loss: 1.8117\n",
      "Epoch [15/30], Step [100/168], Loss: 0.8082\n",
      "Epoch [16/30], Step [100/168], Loss: 1.0391\n",
      "Epoch [17/30], Step [100/168], Loss: 1.1079\n",
      "Epoch [18/30], Step [100/168], Loss: 1.4825\n",
      "Epoch [19/30], Step [100/168], Loss: 0.8570\n",
      "Epoch [20/30], Step [100/168], Loss: 0.7504\n",
      "Epoch [21/30], Step [100/168], Loss: 0.7941\n",
      "Epoch [22/30], Step [100/168], Loss: 0.3626\n",
      "Epoch [23/30], Step [100/168], Loss: 0.3156\n",
      "Epoch [24/30], Step [100/168], Loss: 0.3991\n",
      "Epoch [25/30], Step [100/168], Loss: 0.4374\n",
      "Epoch [26/30], Step [100/168], Loss: 0.6773\n",
      "Epoch [27/30], Step [100/168], Loss: 0.5013\n",
      "Epoch [28/30], Step [100/168], Loss: 0.5718\n",
      "Epoch [29/30], Step [100/168], Loss: 0.3385\n",
      "Epoch [30/30], Step [100/168], Loss: 0.3540\n"
     ]
    }
   ],
   "source": [
    "n_total_steps = len(train_loader)\n",
    "\n",
    "for epoch in range(num_epochs):\n",
    "    model.train()  # set model to training mode\n",
    "    for i, (images, labels) in enumerate(train_loader):  \n",
    "        images = images.to(device)  # shape: [32, 3, 300, 140]\n",
    "        labels = labels.to(device)\n",
    "        \n",
    "        # Forward pass and loss calculation\n",
    "        outputs = model(images)\n",
    "        loss = criterion(outputs, labels)\n",
    "        \n",
    "        # Backward and optimize\n",
    "        optimizer.zero_grad()\n",
    "        loss.backward()\n",
    "        optimizer.step()\n",
    "        \n",
    "        if (i+1) % 100 == 0:\n",
    "            print(f'Epoch [{epoch+1}/{num_epochs}], Step [{i+1}/{n_total_steps}], Loss: {loss.item():.4f}')"
   ]
  },
  {
   "cell_type": "markdown",
   "id": "635b31ec-0129-476d-9050-da263d71153d",
   "metadata": {},
   "source": [
    "### Testing On Training Set"
   ]
  },
  {
   "cell_type": "code",
   "execution_count": 13,
   "id": "654ad9f5-7d61-4231-8cf2-cfa9cabb4f97",
   "metadata": {},
   "outputs": [
    {
     "name": "stdout",
     "output_type": "stream",
     "text": [
      "Accuracy of the network on the 5364 train images: 85.57046979865773 %\n"
     ]
    }
   ],
   "source": [
    "with torch.no_grad():\n",
    "    n_correct = 0\n",
    "    n_samples = len(train_loader.dataset)\n",
    "\n",
    "    for images, labels in train_loader:\n",
    "        labels = labels.to(device)\n",
    "\n",
    "        outputs = model(images)\n",
    "\n",
    "        # max returns (output_value ,index)\n",
    "        _, predicted = torch.max(outputs, 1)\n",
    "        n_correct += (predicted == labels).sum().item()\n",
    "\n",
    "    acc = n_correct / n_samples\n",
    "    print(f'Accuracy of the network on the {n_samples} train images: {100*acc} %')"
   ]
  },
  {
   "cell_type": "markdown",
   "id": "9ffa2656-2c1e-484a-ae31-39b6832929a0",
   "metadata": {},
   "source": [
    "### Testing On Test Set"
   ]
  },
  {
   "cell_type": "code",
   "execution_count": 14,
   "id": "a176cc13-6aa1-4936-bcb8-9400b04ac574",
   "metadata": {},
   "outputs": [
    {
     "name": "stdout",
     "output_type": "stream",
     "text": [
      "Accuracy of the network on the 596 train images: 19.966442953020135 %\n"
     ]
    }
   ],
   "source": [
    "with torch.no_grad():\n",
    "    n_correct = 0\n",
    "    n_samples = len(test_loader.dataset)\n",
    "\n",
    "    for images, labels in test_loader:\n",
    "        labels = labels.to(device)\n",
    "\n",
    "        outputs = model(images)\n",
    "\n",
    "        # max returns (output_value ,index)\n",
    "        _, predicted = torch.max(outputs, 1)\n",
    "        n_correct += (predicted == labels).sum().item()\n",
    "\n",
    "    acc = n_correct / n_samples\n",
    "    print(f'Accuracy of the network on the {n_samples} train images: {100*acc} %')"
   ]
  },
  {
   "cell_type": "code",
   "execution_count": 15,
   "id": "7bd8abfd-75f5-407c-a66a-be60938c210c",
   "metadata": {},
   "outputs": [],
   "source": [
    "torch.save(model.state_dict(), \"model_weights.pth\")"
   ]
  },
  {
   "cell_type": "code",
   "execution_count": null,
   "id": "13f533ab-d45f-4af0-aeb7-3b785f2ac71a",
   "metadata": {},
   "outputs": [],
   "source": []
  }
 ],
 "metadata": {
  "kernelspec": {
   "display_name": "Python 3 (ipykernel)",
   "language": "python",
   "name": "python3"
  },
  "language_info": {
   "codemirror_mode": {
    "name": "ipython",
    "version": 3
   },
   "file_extension": ".py",
   "mimetype": "text/x-python",
   "name": "python",
   "nbconvert_exporter": "python",
   "pygments_lexer": "ipython3",
   "version": "3.9.6"
  }
 },
 "nbformat": 4,
 "nbformat_minor": 5
}
